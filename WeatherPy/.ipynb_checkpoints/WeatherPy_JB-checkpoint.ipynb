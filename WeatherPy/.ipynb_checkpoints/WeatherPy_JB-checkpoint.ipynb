{
 "cells": [
  {
   "cell_type": "markdown",
   "metadata": {},
   "source": [
    "# WeatherPy\n",
    "----\n",
    "\n",
    "#### Note\n",
    "* Instructions have been included for each segment. You do not have to follow them exactly, but they are included to help you think through the steps."
   ]
  },
  {
   "cell_type": "code",
   "execution_count": 31,
   "metadata": {},
   "outputs": [
    {
     "data": {
      "text/plain": [
       "'/Users/GHWIC/Desktop/Homework/python-api-challenge/WeatherPy'"
      ]
     },
     "execution_count": 31,
     "metadata": {},
     "output_type": "execute_result"
    }
   ],
   "source": [
    "#pwd"
   ]
  },
  {
   "cell_type": "code",
   "execution_count": 11,
   "metadata": {
    "scrolled": true
   },
   "outputs": [],
   "source": [
    "# Dependencies and Setup\n",
    "import matplotlib.pyplot as plt\n",
    "import pandas as pd\n",
    "import numpy as np\n",
    "import requests\n",
    "import time\n",
    "import os \n",
    "from scipy.stats import linregress\n",
    "import datetime\n",
    "api_key = \"78a037f32daf3c3260cb78de1edd8e86\"\n",
    "\n",
    "# Import API key\n",
    "#from api_keys import api_key\n",
    "\n",
    "# Incorporated citipy to determine city based on latitude and longitude\n",
    "from citipy import citipy\n",
    "\n",
    "# Output File (CSV)\n",
    "output_data_file = \"./cities.csv\"\n",
    "\n",
    "# Range of latitudes and longitudes\n",
    "lat_range = (-90, 90)\n",
    "lng_range = (-180, 180)"
   ]
  },
  {
   "cell_type": "markdown",
   "metadata": {},
   "source": [
    "## Generate Cities List"
   ]
  },
  {
   "cell_type": "code",
   "execution_count": 12,
   "metadata": {},
   "outputs": [
    {
     "data": {
      "text/plain": [
       "600"
      ]
     },
     "execution_count": 12,
     "metadata": {},
     "output_type": "execute_result"
    }
   ],
   "source": [
    "# List for holding lat_lngs and cities\n",
    "lat_lngs = []\n",
    "cities = []\n",
    "\n",
    "# Create a set of random lat and lng combinations\n",
    "lats = np.random.uniform(lat_range[0], lat_range[1], size=1500)\n",
    "lngs = np.random.uniform(lng_range[0], lng_range[1], size=1500)\n",
    "lat_lngs = zip(lats, lngs)\n",
    "\n",
    "# Identify nearest city for each lat, lng combination\n",
    "for lat_lng in lat_lngs:\n",
    "    city = citipy.nearest_city(lat_lng[0], lat_lng[1]).city_name\n",
    "    \n",
    "    # If the city is unique, then add it to a our cities list\n",
    "    if city not in cities:\n",
    "        cities.append(city)\n",
    "\n",
    "# Print the city count to confirm sufficient count\n",
    "len(cities)"
   ]
  },
  {
   "cell_type": "markdown",
   "metadata": {},
   "source": [
    "### Perform API Calls\n",
    "* Perform a weather check on each city using a series of successive API calls.\n",
    "* Include a print log of each city as it'sbeing processed (with the city number and city name).\n"
   ]
  },
  {
   "cell_type": "code",
   "execution_count": null,
   "metadata": {},
   "outputs": [],
   "source": [
    "# cities_weather = pd.DataFrame(cities)\n",
    "# cities_weather.shape"
   ]
  },
  {
   "cell_type": "code",
   "execution_count": 13,
   "metadata": {
    "scrolled": true
   },
   "outputs": [],
   "source": [
    "new_cities = []\n",
    "cloudiness = []\n",
    "country = []\n",
    "date = []\n",
    "humidity = []\n",
    "temp = []\n",
    "lat = []\n",
    "lng = []\n",
    "wind = []"
   ]
  },
  {
   "cell_type": "code",
   "execution_count": 14,
   "metadata": {},
   "outputs": [
    {
     "name": "stdout",
     "output_type": "stream",
     "text": [
      "Beginning Data Retrieval\n",
      "------------------------\n",
      "Processing record 1 of set 0 | victoria\n",
      "Processing record 2 of set 0 | mataura\n",
      "Processing record 3 of set 0 | tyukhtet\n",
      "Processing record 4 of set 0 | clyde river\n",
      "Processing record 5 of set 0 | golden gate\n",
      "Processing record 6 of set 0 | dunedin\n",
      "Processing record 7 of set 0 | port elizabeth\n",
      "Processing record 8 of set 0 | qaanaaq\n",
      "Processing record 9 of set 0 | alyangula\n",
      "Processing record 10 of set 0 | muroto\n",
      "Processing record 11 of set 0 | komsomolskiy\n",
      "Processing record 12 of set 0 | broken hill\n",
      "Processing record 13 of set 0 | ojinaga\n",
      "Processing record 14 of set 0 | paidha\n",
      "Processing record 15 of set 0 | tasiilaq\n",
      "Processing record 16 of set 0 | kloulklubed\n",
      "Processing record 17 of set 0 | severo-kurilsk\n",
      "Processing record 18 of set 0 | albany\n",
      "Processing record 19 of set 0 | lebu\n",
      "Processing record 20 of set 0 | atuona\n",
      "Processing record 21 of set 0 | punta arenas\n",
      "Processing record 22 of set 0 | alta floresta\n",
      "Processing record 23 of set 0 | carballo\n",
      "Processing record 24 of set 0 | fort morgan\n",
      "Processing record 25 of set 0 | aanekoski\n",
      "Processing record 26 of set 0 | nouadhibou\n",
      "Processing record 27 of set 0 | portland\n",
      "Processing record 28 of set 0 | airai\n",
      "Processing record 29 of set 0 | ushuaia\n",
      "Processing record 30 of set 0 | rawson\n",
      "Processing record 31 of set 0 | grand river south east\n",
      "City not found. Skipping...\n",
      "Processing record 32 of set 0 | bluff\n",
      "Processing record 33 of set 0 | bilibino\n",
      "Processing record 34 of set 0 | ribeira grande\n",
      "Processing record 35 of set 0 | udachnyy\n",
      "Processing record 36 of set 0 | sitka\n",
      "Processing record 37 of set 0 | upata\n",
      "Processing record 38 of set 0 | busselton\n",
      "Processing record 39 of set 0 | ahipara\n",
      "Processing record 40 of set 0 | thompson\n",
      "Processing record 41 of set 0 | marcona\n",
      "City not found. Skipping...\n",
      "Processing record 42 of set 0 | vanavara\n",
      "Processing record 43 of set 0 | russkiy kameshkir\n",
      "Processing record 44 of set 0 | mar del plata\n",
      "Processing record 45 of set 0 | okhotsk\n",
      "Processing record 46 of set 0 | gornyye klyuchi\n",
      "Processing record 47 of set 0 | fairbanks\n",
      "Processing record 48 of set 0 | dikson\n",
      "Processing record 49 of set 0 | hilo\n",
      "Processing record 50 of set 0 | taolanaro\n",
      "City not found. Skipping...\n",
      "Processing record 0 of set 1 | evensk\n",
      "Processing record 1 of set 1 | esperance\n",
      "Processing record 2 of set 1 | uruzgan\n",
      "Processing record 3 of set 1 | husavik\n",
      "Processing record 4 of set 1 | mabaruma\n",
      "Processing record 5 of set 1 | tahoua\n",
      "Processing record 6 of set 1 | hobart\n",
      "Processing record 7 of set 1 | muros\n",
      "Processing record 8 of set 1 | piney green\n",
      "Processing record 9 of set 1 | artyk\n",
      "City not found. Skipping...\n",
      "Processing record 10 of set 1 | coahuayana\n",
      "Processing record 11 of set 1 | cape town\n",
      "Processing record 12 of set 1 | sosnovo-ozerskoye\n",
      "Processing record 13 of set 1 | new norfolk\n",
      "Processing record 14 of set 1 | vaitupu\n",
      "City not found. Skipping...\n",
      "Processing record 15 of set 1 | marzuq\n",
      "Processing record 16 of set 1 | togul\n",
      "Processing record 17 of set 1 | virginia beach\n",
      "Processing record 18 of set 1 | vanimo\n",
      "Processing record 19 of set 1 | kapaa\n",
      "Processing record 20 of set 1 | saint-philippe\n",
      "Processing record 21 of set 1 | rikitea\n",
      "Processing record 22 of set 1 | champerico\n",
      "Processing record 23 of set 1 | vaini\n",
      "Processing record 24 of set 1 | northam\n",
      "Processing record 25 of set 1 | okha\n",
      "Processing record 26 of set 1 | nhulunbuy\n",
      "Processing record 27 of set 1 | southbridge\n",
      "Processing record 28 of set 1 | bereda\n",
      "Processing record 29 of set 1 | vieste\n",
      "Processing record 30 of set 1 | half moon bay\n",
      "Processing record 31 of set 1 | tahta\n",
      "Processing record 32 of set 1 | hermanus\n",
      "Processing record 33 of set 1 | karoi\n",
      "Processing record 34 of set 1 | carroll\n",
      "Processing record 35 of set 1 | mys shmidta\n",
      "City not found. Skipping...\n",
      "Processing record 36 of set 1 | bathsheba\n",
      "Processing record 37 of set 1 | carson city\n",
      "Processing record 38 of set 1 | saint george\n",
      "Processing record 39 of set 1 | abha\n",
      "Processing record 40 of set 1 | altay\n",
      "Processing record 41 of set 1 | puerto ayora\n",
      "Processing record 42 of set 1 | jamestown\n",
      "Processing record 43 of set 1 | umzimvubu\n",
      "City not found. Skipping...\n",
      "Processing record 44 of set 1 | barrow\n",
      "Processing record 45 of set 1 | temerin\n",
      "Processing record 46 of set 1 | kodiak\n",
      "Processing record 47 of set 1 | henties bay\n",
      "Processing record 48 of set 1 | bardiyah\n",
      "Processing record 49 of set 1 | pevek\n",
      "Processing record 50 of set 1 | yellowknife\n",
      "Processing record 0 of set 2 | norman wells\n",
      "Processing record 1 of set 2 | bambous virieux\n",
      "Processing record 2 of set 2 | paamiut\n",
      "Processing record 3 of set 2 | lerik\n",
      "Processing record 4 of set 2 | caruray\n",
      "Processing record 5 of set 2 | puerto carreno\n",
      "Processing record 6 of set 2 | alofi\n",
      "Processing record 7 of set 2 | senno\n",
      "Processing record 8 of set 2 | carutapera\n",
      "Processing record 9 of set 2 | san quintin\n",
      "Processing record 10 of set 2 | bulgan\n",
      "Processing record 11 of set 2 | thibodaux\n",
      "Processing record 12 of set 2 | castro\n",
      "Processing record 13 of set 2 | samalaeulu\n",
      "City not found. Skipping...\n",
      "Processing record 14 of set 2 | klaksvik\n",
      "Processing record 15 of set 2 | westport\n",
      "Processing record 16 of set 2 | morondava\n",
      "Processing record 17 of set 2 | hithadhoo\n",
      "Processing record 18 of set 2 | ulaanbaatar\n",
      "Processing record 19 of set 2 | temaraia\n",
      "City not found. Skipping...\n",
      "Processing record 20 of set 2 | enshi\n",
      "Processing record 21 of set 2 | flinders\n",
      "Processing record 22 of set 2 | samusu\n",
      "City not found. Skipping...\n",
      "Processing record 23 of set 2 | coihaique\n",
      "Processing record 24 of set 2 | souillac\n",
      "Processing record 25 of set 2 | fort nelson\n",
      "Processing record 26 of set 2 | port hardy\n",
      "Processing record 27 of set 2 | amderma\n",
      "City not found. Skipping...\n",
      "Processing record 28 of set 2 | maloy\n",
      "Processing record 29 of set 2 | butaritari\n",
      "Processing record 30 of set 2 | lompoc\n",
      "Processing record 31 of set 2 | westerland\n",
      "Processing record 32 of set 2 | karaul\n",
      "City not found. Skipping...\n",
      "Processing record 33 of set 2 | champasak\n",
      "Processing record 34 of set 2 | berlevag\n",
      "Processing record 35 of set 2 | pacific grove\n",
      "Processing record 36 of set 2 | nuevo progreso\n",
      "Processing record 37 of set 2 | belushya guba\n",
      "City not found. Skipping...\n",
      "Processing record 38 of set 2 | mrirt\n",
      "City not found. Skipping...\n",
      "Processing record 39 of set 2 | kununurra\n",
      "Processing record 40 of set 2 | bethel\n",
      "Processing record 41 of set 2 | dillon\n",
      "Processing record 42 of set 2 | port alfred\n",
      "Processing record 43 of set 2 | dalby\n",
      "Processing record 44 of set 2 | kaitangata\n",
      "Processing record 45 of set 2 | luderitz\n",
      "Processing record 46 of set 2 | wladyslawowo\n",
      "Processing record 47 of set 2 | tuktoyaktuk\n",
      "Processing record 48 of set 2 | batagay-alyta\n",
      "Processing record 49 of set 2 | saskylakh\n",
      "Processing record 50 of set 2 | lagoa\n",
      "Processing record 0 of set 3 | barentsburg\n",
      "City not found. Skipping...\n",
      "Processing record 1 of set 3 | khatanga\n",
      "Processing record 2 of set 3 | north bend\n",
      "Processing record 3 of set 3 | aktau\n",
      "Processing record 4 of set 3 | caravelas\n",
      "Processing record 5 of set 3 | leningradskiy\n",
      "Processing record 6 of set 3 | asfi\n",
      "Processing record 7 of set 3 | karratha\n",
      "Processing record 8 of set 3 | issia\n",
      "Processing record 9 of set 3 | pecos\n",
      "Processing record 10 of set 3 | torbay\n",
      "Processing record 11 of set 3 | makambako\n",
      "Processing record 12 of set 3 | grindavik\n",
      "Processing record 13 of set 3 | bud\n",
      "Processing record 14 of set 3 | vao\n",
      "Processing record 15 of set 3 | tazmalt\n",
      "Processing record 16 of set 3 | east london\n",
      "Processing record 17 of set 3 | wanning\n",
      "Processing record 18 of set 3 | arraial do cabo\n",
      "Processing record 19 of set 3 | georgetown\n",
      "Processing record 20 of set 3 | pangnirtung\n",
      "Processing record 21 of set 3 | kirksville\n",
      "Processing record 22 of set 3 | vallenar\n",
      "Processing record 23 of set 3 | balad\n",
      "Processing record 24 of set 3 | kirakira\n",
      "Processing record 25 of set 3 | quelimane\n",
      "Processing record 26 of set 3 | yar-sale\n",
      "Processing record 27 of set 3 | coquimbo\n",
      "Processing record 28 of set 3 | cabo san lucas\n",
      "Processing record 29 of set 3 | hambantota\n",
      "Processing record 30 of set 3 | puerto escondido\n",
      "Processing record 31 of set 3 | san ignacio\n",
      "Processing record 32 of set 3 | grand-santi\n",
      "Processing record 33 of set 3 | kahului\n",
      "Processing record 34 of set 3 | manokwari\n"
     ]
    },
    {
     "name": "stdout",
     "output_type": "stream",
     "text": [
      "Processing record 35 of set 3 | yen bai\n",
      "Processing record 36 of set 3 | avarua\n",
      "Processing record 37 of set 3 | faanui\n",
      "Processing record 38 of set 3 | aykhal\n",
      "Processing record 39 of set 3 | galle\n",
      "Processing record 40 of set 3 | san cristobal\n",
      "Processing record 41 of set 3 | illoqqortoormiut\n",
      "City not found. Skipping...\n",
      "Processing record 42 of set 3 | touros\n",
      "Processing record 43 of set 3 | hamilton\n",
      "Processing record 44 of set 3 | vagamo\n",
      "Processing record 45 of set 3 | kavieng\n",
      "Processing record 46 of set 3 | krasnoborsk\n",
      "Processing record 47 of set 3 | warqla\n",
      "City not found. Skipping...\n",
      "Processing record 48 of set 3 | soe\n",
      "Processing record 49 of set 3 | cherskiy\n",
      "Processing record 50 of set 3 | roald\n",
      "Processing record 0 of set 4 | viedma\n",
      "Processing record 1 of set 4 | maningrida\n",
      "Processing record 2 of set 4 | kachug\n",
      "Processing record 3 of set 4 | paragominas\n",
      "Processing record 4 of set 4 | wukari\n",
      "Processing record 5 of set 4 | jiuquan\n",
      "Processing record 6 of set 4 | broome\n",
      "Processing record 7 of set 4 | mulanay\n",
      "Processing record 8 of set 4 | bredasdorp\n",
      "Processing record 9 of set 4 | portobelo\n",
      "Processing record 10 of set 4 | shingu\n",
      "Processing record 11 of set 4 | zhigansk\n",
      "Processing record 12 of set 4 | aklavik\n",
      "Processing record 13 of set 4 | fortuna\n",
      "Processing record 14 of set 4 | fez\n",
      "Processing record 15 of set 4 | stolin\n",
      "Processing record 16 of set 4 | sentyabrskiy\n",
      "City not found. Skipping...\n",
      "Processing record 17 of set 4 | toliary\n",
      "City not found. Skipping...\n",
      "Processing record 18 of set 4 | kamaishi\n",
      "Processing record 19 of set 4 | tawzar\n",
      "City not found. Skipping...\n",
      "Processing record 20 of set 4 | burnie\n",
      "Processing record 21 of set 4 | padang\n",
      "Processing record 22 of set 4 | hirara\n",
      "Processing record 23 of set 4 | oromocto\n",
      "Processing record 24 of set 4 | barkhera\n",
      "Processing record 25 of set 4 | kyren\n",
      "Processing record 26 of set 4 | saldanha\n",
      "Processing record 27 of set 4 | shakiso\n",
      "Processing record 28 of set 4 | pagman\n",
      "City not found. Skipping...\n",
      "Processing record 29 of set 4 | sao filipe\n",
      "Processing record 30 of set 4 | lata\n",
      "Processing record 31 of set 4 | arlit\n",
      "Processing record 32 of set 4 | xiongzhou\n",
      "Processing record 33 of set 4 | mayo\n",
      "Processing record 34 of set 4 | novi pazar\n",
      "Processing record 35 of set 4 | anadyr\n",
      "Processing record 36 of set 4 | pahalgam\n",
      "Processing record 37 of set 4 | codrington\n",
      "Processing record 38 of set 4 | cumaribo\n",
      "City not found. Skipping...\n",
      "Processing record 39 of set 4 | itapora\n",
      "Processing record 40 of set 4 | qui nhon\n",
      "Processing record 41 of set 4 | sur\n",
      "Processing record 42 of set 4 | shimoda\n",
      "Processing record 43 of set 4 | mount gambier\n",
      "Processing record 44 of set 4 | ushtobe\n",
      "Processing record 45 of set 4 | elizabeth city\n",
      "Processing record 46 of set 4 | ukiah\n",
      "Processing record 47 of set 4 | tieli\n",
      "Processing record 48 of set 4 | the valley\n",
      "Processing record 49 of set 4 | axim\n",
      "Processing record 50 of set 4 | clovis\n",
      "Processing record 0 of set 5 | ugoofaaru\n",
      "Processing record 1 of set 5 | williams lake\n",
      "Processing record 2 of set 5 | chipinge\n",
      "Processing record 3 of set 5 | port hedland\n",
      "Processing record 4 of set 5 | shubarshi\n",
      "Processing record 5 of set 5 | akureyri\n",
      "Processing record 6 of set 5 | namibe\n",
      "Processing record 7 of set 5 | karamay\n",
      "City not found. Skipping...\n",
      "Processing record 8 of set 5 | tura\n",
      "Processing record 9 of set 5 | ejura\n",
      "Processing record 10 of set 5 | ryazhsk\n",
      "Processing record 11 of set 5 | gazojak\n",
      "Processing record 12 of set 5 | scottsburgh\n",
      "City not found. Skipping...\n",
      "Processing record 13 of set 5 | mtimbira\n",
      "Processing record 14 of set 5 | umm lajj\n",
      "Processing record 15 of set 5 | haines junction\n",
      "Processing record 16 of set 5 | gat\n",
      "Processing record 17 of set 5 | mount isa\n",
      "Processing record 18 of set 5 | nanortalik\n",
      "Processing record 19 of set 5 | klichka\n",
      "Processing record 20 of set 5 | filingue\n",
      "Processing record 21 of set 5 | santiago\n",
      "Processing record 22 of set 5 | arenapolis\n",
      "Processing record 23 of set 5 | nguiu\n",
      "City not found. Skipping...\n",
      "Processing record 24 of set 5 | lakes entrance\n",
      "Processing record 25 of set 5 | kralendijk\n",
      "Processing record 26 of set 5 | rock sound\n",
      "Processing record 27 of set 5 | pouebo\n",
      "Processing record 28 of set 5 | mankato\n",
      "Processing record 29 of set 5 | neuquen\n",
      "Processing record 30 of set 5 | ponta do sol\n",
      "Processing record 31 of set 5 | salalah\n",
      "Processing record 32 of set 5 | canakkale\n",
      "Processing record 33 of set 5 | upernavik\n",
      "Processing record 34 of set 5 | algiers\n",
      "Processing record 35 of set 5 | kjopsvik\n",
      "Processing record 36 of set 5 | bhanvad\n",
      "Processing record 37 of set 5 | carnarvon\n",
      "Processing record 38 of set 5 | duayaw nkwanta\n",
      "Processing record 39 of set 5 | geraldton\n",
      "Processing record 40 of set 5 | san ramon\n",
      "Processing record 41 of set 5 | puerto varas\n",
      "Processing record 42 of set 5 | provideniya\n",
      "Processing record 43 of set 5 | san borja\n",
      "Processing record 44 of set 5 | almaznyy\n",
      "Processing record 45 of set 5 | nokha\n",
      "Processing record 46 of set 5 | emerald\n",
      "Processing record 47 of set 5 | tevaitoa\n",
      "Processing record 48 of set 5 | netivot\n",
      "Processing record 49 of set 5 | tasbuget\n",
      "City not found. Skipping...\n",
      "Processing record 50 of set 5 | coracao de jesus\n",
      "Processing record 0 of set 6 | biskamzha\n",
      "Processing record 1 of set 6 | chuy\n",
      "Processing record 2 of set 6 | karatuzskoye\n",
      "Processing record 3 of set 6 | obama\n",
      "Processing record 4 of set 6 | gangotri\n",
      "City not found. Skipping...\n",
      "Processing record 5 of set 6 | gimli\n",
      "Processing record 6 of set 6 | monduli\n",
      "Processing record 7 of set 6 | santa vitoria do palmar\n",
      "Processing record 8 of set 6 | nombre de dios\n",
      "Processing record 9 of set 6 | port lincoln\n",
      "Processing record 10 of set 6 | assiniboia\n",
      "Processing record 11 of set 6 | itarema\n",
      "Processing record 12 of set 6 | piatra neamt\n",
      "Processing record 13 of set 6 | kochubey\n",
      "Processing record 14 of set 6 | mullaitivu\n",
      "City not found. Skipping...\n",
      "Processing record 15 of set 6 | muncar\n",
      "Processing record 16 of set 6 | sergeyevka\n",
      "Processing record 17 of set 6 | huntsville\n",
      "Processing record 18 of set 6 | beringovskiy\n",
      "Processing record 19 of set 6 | rio gallegos\n",
      "Processing record 20 of set 6 | guerrero negro\n",
      "Processing record 21 of set 6 | cidreira\n",
      "Processing record 22 of set 6 | saryshagan\n",
      "City not found. Skipping...\n",
      "Processing record 23 of set 6 | ilo\n",
      "Processing record 24 of set 6 | lubango\n",
      "Processing record 25 of set 6 | chokurdakh\n",
      "Processing record 26 of set 6 | skagastrond\n",
      "City not found. Skipping...\n",
      "Processing record 27 of set 6 | bonthe\n",
      "Processing record 28 of set 6 | hami\n",
      "Processing record 29 of set 6 | poltavka\n",
      "Processing record 30 of set 6 | barghis\n",
      "City not found. Skipping...\n",
      "Processing record 31 of set 6 | matameye\n",
      "City not found. Skipping...\n",
      "Processing record 32 of set 6 | narsaq\n",
      "Processing record 33 of set 6 | ngunguru\n",
      "Processing record 34 of set 6 | ivnya\n",
      "Processing record 35 of set 6 | ilulissat\n",
      "Processing record 36 of set 6 | kisangani\n",
      "Processing record 37 of set 6 | bubaque\n",
      "Processing record 38 of set 6 | yarmouth\n",
      "Processing record 39 of set 6 | tautira\n",
      "Processing record 40 of set 6 | qaqortoq\n",
      "Processing record 41 of set 6 | oranjemund\n",
      "Processing record 42 of set 6 | cocula\n",
      "Processing record 43 of set 6 | galesong\n",
      "Processing record 44 of set 6 | te anau\n",
      "Processing record 45 of set 6 | kondinskoye\n",
      "Processing record 46 of set 6 | chandausi\n",
      "Processing record 47 of set 6 | kutum\n",
      "Processing record 48 of set 6 | pimentel\n",
      "Processing record 49 of set 6 | necochea\n",
      "Processing record 50 of set 6 | voyvozh\n",
      "Processing record 0 of set 7 | buon me thuot\n",
      "City not found. Skipping...\n",
      "Processing record 1 of set 7 | nikolskoye\n",
      "Processing record 2 of set 7 | saint-augustin\n",
      "Processing record 3 of set 7 | isangel\n",
      "Processing record 4 of set 7 | machali\n",
      "Processing record 5 of set 7 | tuatapere\n",
      "Processing record 6 of set 7 | krasnoselkup\n",
      "Processing record 7 of set 7 | yabrud\n",
      "Processing record 8 of set 7 | wilmington\n",
      "Processing record 9 of set 7 | saint-joseph\n",
      "Processing record 10 of set 7 | clyde\n",
      "Processing record 11 of set 7 | road town\n",
      "Processing record 12 of set 7 | kibondo\n",
      "Processing record 13 of set 7 | sobolevo\n",
      "Processing record 14 of set 7 | pisco\n",
      "Processing record 15 of set 7 | sao gabriel da cachoeira\n",
      "Processing record 16 of set 7 | taree\n",
      "Processing record 17 of set 7 | maldonado\n",
      "Processing record 18 of set 7 | tromso\n",
      "Processing record 19 of set 7 | linqiong\n"
     ]
    },
    {
     "name": "stdout",
     "output_type": "stream",
     "text": [
      "Processing record 20 of set 7 | kalmunai\n",
      "Processing record 21 of set 7 | adoni\n",
      "Processing record 22 of set 7 | yaan\n",
      "Processing record 23 of set 7 | lorengau\n",
      "Processing record 24 of set 7 | maykain\n",
      "City not found. Skipping...\n",
      "Processing record 25 of set 7 | kruisfontein\n",
      "Processing record 26 of set 7 | zunyi\n",
      "Processing record 27 of set 7 | oranjestad\n",
      "Processing record 28 of set 7 | chapais\n",
      "Processing record 29 of set 7 | swanzey\n",
      "Processing record 30 of set 7 | darhan\n",
      "Processing record 31 of set 7 | sistranda\n",
      "Processing record 32 of set 7 | kodoli\n",
      "Processing record 33 of set 7 | salumbar\n",
      "Processing record 34 of set 7 | wenling\n",
      "Processing record 35 of set 7 | urucara\n",
      "Processing record 36 of set 7 | nioro\n",
      "Processing record 37 of set 7 | hokitika\n",
      "Processing record 38 of set 7 | ciudad bolivar\n",
      "Processing record 39 of set 7 | sola\n",
      "Processing record 40 of set 7 | olafsvik\n",
      "Processing record 41 of set 7 | mackay\n",
      "Processing record 42 of set 7 | luanda\n",
      "Processing record 43 of set 7 | tsihombe\n",
      "City not found. Skipping...\n",
      "Processing record 44 of set 7 | kalulushi\n",
      "Processing record 45 of set 7 | walvis bay\n",
      "Processing record 46 of set 7 | quatre cocos\n",
      "Processing record 47 of set 7 | labuhan\n",
      "Processing record 48 of set 7 | stoyba\n",
      "City not found. Skipping...\n",
      "Processing record 49 of set 7 | foumban\n",
      "Processing record 50 of set 7 | balykshi\n",
      "Processing record 0 of set 8 | ambon\n",
      "Processing record 1 of set 8 | naze\n",
      "Processing record 2 of set 8 | bushehr\n",
      "Processing record 3 of set 8 | mbekenyera\n",
      "Processing record 4 of set 8 | attawapiskat\n",
      "City not found. Skipping...\n",
      "Processing record 5 of set 8 | kokkola\n",
      "Processing record 6 of set 8 | biak\n",
      "Processing record 7 of set 8 | la plata\n",
      "Processing record 8 of set 8 | asau\n",
      "Processing record 9 of set 8 | port-gentil\n",
      "Processing record 10 of set 8 | alto araguaia\n",
      "Processing record 11 of set 8 | sorvag\n",
      "City not found. Skipping...\n",
      "Processing record 12 of set 8 | general salgado\n",
      "Processing record 13 of set 8 | marfino\n",
      "Processing record 14 of set 8 | puerto madryn\n",
      "Processing record 15 of set 8 | moron\n",
      "Processing record 16 of set 8 | marienburg\n",
      "Processing record 17 of set 8 | hobyo\n",
      "Processing record 18 of set 8 | itaituba\n",
      "Processing record 19 of set 8 | roebourne\n",
      "Processing record 20 of set 8 | mapiripan\n",
      "Processing record 21 of set 8 | piacabucu\n",
      "Processing record 22 of set 8 | katsuura\n",
      "Processing record 23 of set 8 | biltine\n",
      "Processing record 24 of set 8 | khani\n",
      "Processing record 25 of set 8 | cheuskiny\n",
      "City not found. Skipping...\n",
      "Processing record 26 of set 8 | nizhneyansk\n",
      "City not found. Skipping...\n",
      "Processing record 27 of set 8 | padilla\n",
      "Processing record 28 of set 8 | belyy yar\n",
      "Processing record 29 of set 8 | bandarbeyla\n",
      "Processing record 30 of set 8 | mormugao\n",
      "Processing record 31 of set 8 | killybegs\n",
      "Processing record 32 of set 8 | myitkyina\n",
      "Processing record 33 of set 8 | wiang sa\n",
      "Processing record 34 of set 8 | bairiki\n",
      "Processing record 35 of set 8 | muisne\n",
      "Processing record 36 of set 8 | vestmannaeyjar\n",
      "Processing record 37 of set 8 | pointe michel\n",
      "Processing record 38 of set 8 | rawah\n",
      "Processing record 39 of set 8 | lavrentiya\n",
      "Processing record 40 of set 8 | kamenskoye\n",
      "City not found. Skipping...\n",
      "Processing record 41 of set 8 | tilichiki\n",
      "Processing record 42 of set 8 | gamba\n",
      "Processing record 43 of set 8 | saint-ambroise\n",
      "Processing record 44 of set 8 | tateyama\n",
      "Processing record 45 of set 8 | yumen\n",
      "Processing record 46 of set 8 | los llanos de aridane\n",
      "Processing record 47 of set 8 | san rafael\n",
      "Processing record 48 of set 8 | bokajan\n",
      "Processing record 49 of set 8 | camalu\n",
      "Processing record 50 of set 8 | micheweni\n",
      "Processing record 0 of set 9 | mahebourg\n",
      "Processing record 1 of set 9 | fare\n",
      "Processing record 2 of set 9 | passagem franca\n",
      "Processing record 3 of set 9 | salinas\n",
      "Processing record 4 of set 9 | galich\n",
      "Processing record 5 of set 9 | sao jose da coroa grande\n",
      "Processing record 6 of set 9 | ishim\n",
      "Processing record 7 of set 9 | fort frances\n",
      "Processing record 8 of set 9 | chitral\n",
      "Processing record 9 of set 9 | jalu\n",
      "Processing record 10 of set 9 | sembe\n",
      "Processing record 11 of set 9 | ancud\n",
      "Processing record 12 of set 9 | iba\n",
      "Processing record 13 of set 9 | nara\n",
      "Processing record 14 of set 9 | sevierville\n",
      "Processing record 15 of set 9 | boddam\n",
      "Processing record 16 of set 9 | katobu\n",
      "Processing record 17 of set 9 | mizpe ramon\n",
      "City not found. Skipping...\n",
      "Processing record 18 of set 9 | kazalinsk\n",
      "City not found. Skipping...\n",
      "Processing record 19 of set 9 | uporovo\n",
      "Processing record 20 of set 9 | sao joao da barra\n",
      "Processing record 21 of set 9 | north platte\n",
      "Processing record 22 of set 9 | tumannyy\n",
      "City not found. Skipping...\n",
      "Processing record 23 of set 9 | male\n",
      "Processing record 24 of set 9 | tabiauea\n",
      "City not found. Skipping...\n",
      "Processing record 25 of set 9 | sayyan\n",
      "Processing record 26 of set 9 | kaka\n",
      "Processing record 27 of set 9 | fayaoue\n",
      "Processing record 28 of set 9 | bousso\n",
      "Processing record 29 of set 9 | orlik\n",
      "Processing record 30 of set 9 | antalaha\n",
      "Processing record 31 of set 9 | vagur\n",
      "Processing record 32 of set 9 | acucena\n",
      "Processing record 33 of set 9 | coetupo\n",
      "City not found. Skipping...\n",
      "Processing record 34 of set 9 | alfredo chaves\n",
      "Processing record 35 of set 9 | formoso do araguaia\n",
      "City not found. Skipping...\n",
      "Processing record 36 of set 9 | nerang\n",
      "Processing record 37 of set 9 | sumbawa\n",
      "City not found. Skipping...\n",
      "Processing record 38 of set 9 | naenwa\n",
      "City not found. Skipping...\n",
      "Processing record 39 of set 9 | tiznit\n",
      "Processing record 40 of set 9 | meulaboh\n",
      "Processing record 41 of set 9 | el higo\n",
      "Processing record 42 of set 9 | bhag\n",
      "Processing record 43 of set 9 | mutis\n",
      "Processing record 44 of set 9 | tiksi\n",
      "Processing record 45 of set 9 | buala\n",
      "Processing record 46 of set 9 | port macquarie\n",
      "Processing record 47 of set 9 | bafq\n",
      "Processing record 48 of set 9 | high level\n",
      "Processing record 49 of set 9 | tha mai\n",
      "Processing record 50 of set 9 | seddon\n",
      "Processing record 0 of set 10 | mahon\n",
      "Processing record 1 of set 10 | svirsk\n",
      "Processing record 2 of set 10 | asaka\n",
      "Processing record 3 of set 10 | betong\n",
      "Processing record 4 of set 10 | bambanglipuro\n",
      "Processing record 5 of set 10 | kerema\n",
      "Processing record 6 of set 10 | taltal\n",
      "Processing record 7 of set 10 | baherden\n",
      "Processing record 8 of set 10 | laguna\n",
      "Processing record 9 of set 10 | vila velha\n",
      "Processing record 10 of set 10 | lodja\n",
      "Processing record 11 of set 10 | kosa\n",
      "Processing record 12 of set 10 | shitanjing\n",
      "Processing record 13 of set 10 | sao gotardo\n",
      "Processing record 14 of set 10 | sisimiut\n",
      "Processing record 15 of set 10 | snasa\n",
      "Processing record 16 of set 10 | salisbury\n",
      "Processing record 17 of set 10 | hovd\n",
      "Processing record 18 of set 10 | state college\n",
      "Processing record 19 of set 10 | damietta\n",
      "Processing record 20 of set 10 | skeldon\n",
      "Processing record 21 of set 10 | himora\n",
      "City not found. Skipping...\n",
      "Processing record 22 of set 10 | ostrovnoy\n",
      "Processing record 23 of set 10 | whitianga\n",
      "Processing record 24 of set 10 | tazovskiy\n",
      "Processing record 25 of set 10 | taylor\n",
      "Processing record 26 of set 10 | bemidji\n",
      "Processing record 27 of set 10 | dmitriyevskoye\n",
      "Processing record 28 of set 10 | pilar\n",
      "Processing record 29 of set 10 | villa carlos paz\n",
      "Processing record 30 of set 10 | lamu\n",
      "Processing record 31 of set 10 | houma\n",
      "Processing record 32 of set 10 | camacha\n",
      "Processing record 33 of set 10 | christchurch\n",
      "Processing record 34 of set 10 | bur gabo\n",
      "City not found. Skipping...\n",
      "Processing record 35 of set 10 | gravdal\n",
      "Processing record 36 of set 10 | kuching\n",
      "Processing record 37 of set 10 | barentu\n",
      "Processing record 38 of set 10 | longyearbyen\n",
      "Processing record 39 of set 10 | san vicente\n",
      "Processing record 40 of set 10 | samana\n",
      "Processing record 41 of set 10 | dickinson\n",
      "Processing record 42 of set 10 | khonuu\n",
      "City not found. Skipping...\n",
      "Processing record 43 of set 10 | angoche\n",
      "Processing record 44 of set 10 | kashi\n",
      "Processing record 45 of set 10 | adrar\n",
      "Processing record 46 of set 10 | gushikawa\n",
      "Processing record 47 of set 10 | mercedes\n",
      "Processing record 48 of set 10 | mahina\n",
      "Processing record 49 of set 10 | avera\n",
      "Processing record 50 of set 10 | middelkerke\n",
      "Processing record 0 of set 11 | gobabis\n",
      "Processing record 1 of set 11 | puerto del rosario\n",
      "Processing record 2 of set 11 | salamiyah\n",
      "Processing record 3 of set 11 | coracora\n"
     ]
    },
    {
     "name": "stdout",
     "output_type": "stream",
     "text": [
      "Processing record 4 of set 11 | warburg\n",
      "Processing record 5 of set 11 | vestmanna\n",
      "Processing record 6 of set 11 | enid\n",
      "Processing record 7 of set 11 | patea\n",
      "Processing record 8 of set 11 | poum\n",
      "Processing record 9 of set 11 | klyuchevskiy\n",
      "Processing record 10 of set 11 | ambovombe\n",
      "Processing record 11 of set 11 | nishihara\n",
      "Processing record 12 of set 11 | vizinga\n",
      "Processing record 13 of set 11 | boditi\n",
      "Processing record 14 of set 11 | tual\n",
      "Processing record 15 of set 11 | iiyama\n",
      "Processing record 16 of set 11 | tashigang\n",
      "Processing record 17 of set 11 | leninskoye\n",
      "Processing record 18 of set 11 | general pico\n",
      "Processing record 19 of set 11 | grand gaube\n",
      "Processing record 20 of set 11 | cap malheureux\n",
      "Processing record 21 of set 11 | panambi\n",
      "Processing record 22 of set 11 | amazar\n",
      "Processing record 23 of set 11 | nisia floresta\n",
      "Processing record 24 of set 11 | el carmen\n",
      "Processing record 25 of set 11 | moyale\n",
      "Processing record 26 of set 11 | bouillante\n",
      "Processing record 27 of set 11 | kumano\n",
      "Processing record 28 of set 11 | batemans bay\n",
      "Processing record 29 of set 11 | vysokogornyy\n",
      "Processing record 30 of set 11 | raga\n",
      "Processing record 31 of set 11 | rovaniemi\n",
      "Processing record 32 of set 11 | charters towers\n",
      "Processing record 33 of set 11 | marawi\n",
      "Processing record 34 of set 11 | bengkulu\n",
      "Processing record 35 of set 11 | barawe\n",
      "City not found. Skipping...\n",
      "Processing record 36 of set 11 | misratah\n",
      "Processing record 37 of set 11 | birjand\n",
      "Processing record 38 of set 11 | yerofey pavlovich\n",
      "Processing record 39 of set 11 | dali\n",
      "-------------------------\n",
      "Data Retrieval Complete\n",
      "-------------------------\n"
     ]
    }
   ],
   "source": [
    "record_counter = 0\n",
    "set_counter = 0\n",
    "\n",
    "# Starting URL for Weather Map API Call\n",
    "url = \"http://api.openweathermap.org/data/2.5/weather?units=imperial&APPID=\" + api_key \n",
    "\n",
    " # Print as the printout provided\n",
    "print('Beginning Data Retrieval')\n",
    "print('------------------------')\n",
    "\n",
    "# Loop through the cities and get request for each city found\n",
    "for city in cities:\n",
    "    # Create query url to look for city\n",
    "    query_url = url + \"&q=\" + city\n",
    "    \n",
    "    # Get weather data\n",
    "    response = requests.get(query_url).json()\n",
    "    \n",
    "    if record_counter < 50:\n",
    "        record_counter += 1\n",
    "    else:\n",
    "        set_counter += 1\n",
    "        record_counter = 0\n",
    "\n",
    "    print('Processing record {} of set {} | {}'.format(record_counter, set_counter, city))\n",
    "\n",
    "    try:\n",
    "        cloudiness.append(response['clouds']['all'])\n",
    "        country.append(response['sys']['country'])\n",
    "        date.append(response['dt'])\n",
    "        humidity.append(response['main']['humidity'])\n",
    "        temp.append(response['main']['temp'])\n",
    "        lat.append(response['coord']['lat'])\n",
    "        lng.append(response['coord']['lon'])\n",
    "        wind.append(response['wind']['speed'])\n",
    "        new_cities.append(city)\n",
    "    except:\n",
    "        print(\"City not found. Skipping...\")\n",
    "        pass\n",
    "\n",
    "print('-------------------------')\n",
    "print('Data Retrieval Complete')\n",
    "print('-------------------------')"
   ]
  },
  {
   "cell_type": "markdown",
   "metadata": {},
   "source": [
    "### Convert Raw Data to DataFrame\n",
    "* Export the city data into a .csv.\n",
    "* Display the DataFrame"
   ]
  },
  {
   "cell_type": "code",
   "execution_count": 27,
   "metadata": {},
   "outputs": [
    {
     "name": "stdout",
     "output_type": "stream",
     "text": [
      "547\n"
     ]
    }
   ],
   "source": [
    "print(len(lng))"
   ]
  },
  {
   "cell_type": "code",
   "execution_count": 28,
   "metadata": {},
   "outputs": [
    {
     "data": {
      "text/html": [
       "<div>\n",
       "<style scoped>\n",
       "    .dataframe tbody tr th:only-of-type {\n",
       "        vertical-align: middle;\n",
       "    }\n",
       "\n",
       "    .dataframe tbody tr th {\n",
       "        vertical-align: top;\n",
       "    }\n",
       "\n",
       "    .dataframe thead th {\n",
       "        text-align: right;\n",
       "    }\n",
       "</style>\n",
       "<table border=\"1\" class=\"dataframe\">\n",
       "  <thead>\n",
       "    <tr style=\"text-align: right;\">\n",
       "      <th></th>\n",
       "      <th>City</th>\n",
       "      <th>Cloudiness</th>\n",
       "      <th>Country</th>\n",
       "      <th>Date</th>\n",
       "      <th>Humidity</th>\n",
       "      <th>Temp</th>\n",
       "      <th>Lat</th>\n",
       "      <th>Lng</th>\n",
       "      <th>Wind Speed</th>\n",
       "    </tr>\n",
       "  </thead>\n",
       "  <tbody>\n",
       "    <tr>\n",
       "      <th>0</th>\n",
       "      <td>victoria</td>\n",
       "      <td>67</td>\n",
       "      <td>HK</td>\n",
       "      <td>1607381085</td>\n",
       "      <td>69</td>\n",
       "      <td>62.64</td>\n",
       "      <td>22.29</td>\n",
       "      <td>114.16</td>\n",
       "      <td>12.19</td>\n",
       "    </tr>\n",
       "    <tr>\n",
       "      <th>1</th>\n",
       "      <td>mataura</td>\n",
       "      <td>1</td>\n",
       "      <td>NZ</td>\n",
       "      <td>1607381085</td>\n",
       "      <td>60</td>\n",
       "      <td>66.99</td>\n",
       "      <td>-46.19</td>\n",
       "      <td>168.86</td>\n",
       "      <td>8.01</td>\n",
       "    </tr>\n",
       "    <tr>\n",
       "      <th>2</th>\n",
       "      <td>tyukhtet</td>\n",
       "      <td>100</td>\n",
       "      <td>RU</td>\n",
       "      <td>1607381085</td>\n",
       "      <td>93</td>\n",
       "      <td>9.79</td>\n",
       "      <td>56.54</td>\n",
       "      <td>89.30</td>\n",
       "      <td>15.82</td>\n",
       "    </tr>\n",
       "    <tr>\n",
       "      <th>3</th>\n",
       "      <td>clyde river</td>\n",
       "      <td>90</td>\n",
       "      <td>CA</td>\n",
       "      <td>1607381085</td>\n",
       "      <td>84</td>\n",
       "      <td>8.60</td>\n",
       "      <td>70.47</td>\n",
       "      <td>-68.59</td>\n",
       "      <td>3.36</td>\n",
       "    </tr>\n",
       "    <tr>\n",
       "      <th>4</th>\n",
       "      <td>golden gate</td>\n",
       "      <td>1</td>\n",
       "      <td>US</td>\n",
       "      <td>1607381085</td>\n",
       "      <td>82</td>\n",
       "      <td>65.98</td>\n",
       "      <td>26.19</td>\n",
       "      <td>-81.70</td>\n",
       "      <td>12.75</td>\n",
       "    </tr>\n",
       "  </tbody>\n",
       "</table>\n",
       "</div>"
      ],
      "text/plain": [
       "          City  Cloudiness Country        Date  Humidity   Temp    Lat  \\\n",
       "0     victoria          67      HK  1607381085        69  62.64  22.29   \n",
       "1      mataura           1      NZ  1607381085        60  66.99 -46.19   \n",
       "2     tyukhtet         100      RU  1607381085        93   9.79  56.54   \n",
       "3  clyde river          90      CA  1607381085        84   8.60  70.47   \n",
       "4  golden gate           1      US  1607381085        82  65.98  26.19   \n",
       "\n",
       "      Lng  Wind Speed  \n",
       "0  114.16       12.19  \n",
       "1  168.86        8.01  \n",
       "2   89.30       15.82  \n",
       "3  -68.59        3.36  \n",
       "4  -81.70       12.75  "
      ]
     },
     "execution_count": 28,
     "metadata": {},
     "output_type": "execute_result"
    }
   ],
   "source": [
    "city_weather_dict = {\n",
    "                    \"City\" : new_cities, \n",
    "                    \"Cloudiness\" : cloudiness,\n",
    "                    \"Country\" : country,\n",
    "                    \"Date\" : date,\n",
    "                    \"Humidity\" : humidity,\n",
    "                    \"Temp\" : temp, \n",
    "                    \"Lat\" : lat,\n",
    "                    \"Lng\" : lng,\n",
    "                    \"Wind Speed\" : wind\n",
    "                    }\n",
    "\n",
    "city_weather = pd.DataFrame(city_weather_dict)\n",
    "city_weather.head()\n",
    "\n",
    "# create summary df\n",
    "# city_weather_dict2 = ({\"City\" : new_cities,\n",
    "#                        \"Cloudiness\" : cloudiness,\n",
    "#                        \"Country\" : country,\n",
    "#                        \"Date\" : date,\n",
    "#                        \"Humidity\" : humidity,\n",
    "#                        \"Temp\" : temp, \n",
    "#                        \"Latitude\" : lat,\n",
    "#                        \"Longitude\" : lon,\n",
    "#                        \"Wind Speed\" : wind})\n",
    "\n",
    "# city_weather2 = pd.DataFrame(city_weather_dict2)\n",
    "# city_weather2.head()"
   ]
  },
  {
   "cell_type": "code",
   "execution_count": null,
   "metadata": {},
   "outputs": [],
   "source": [
    "#pwd check the path"
   ]
  },
  {
   "cell_type": "code",
   "execution_count": 30,
   "metadata": {
    "scrolled": false
   },
   "outputs": [
    {
     "data": {
      "text/plain": [
       "(547, 9)"
      ]
     },
     "execution_count": 30,
     "metadata": {},
     "output_type": "execute_result"
    }
   ],
   "source": [
    "# Export the city data into a csv. \n",
    "city_weather.to_csv('city_weather.csv')\n",
    "city_weather.shape"
   ]
  },
  {
   "cell_type": "markdown",
   "metadata": {},
   "source": [
    "## Inspect the data and remove the cities where the humidity > 100%.\n",
    "----\n",
    "Skip this step if there are no cities that have humidity > 100%. "
   ]
  },
  {
   "cell_type": "code",
   "execution_count": 53,
   "metadata": {},
   "outputs": [
    {
     "data": {
      "text/plain": [
       "False    547\n",
       "Name: Humidity, dtype: int64"
      ]
     },
     "execution_count": 53,
     "metadata": {},
     "output_type": "execute_result"
    }
   ],
   "source": [
    "city_humid = city_weather[\"Humidity\"] > 100\n",
    "city_humid.value_counts()"
   ]
  },
  {
   "cell_type": "code",
   "execution_count": null,
   "metadata": {},
   "outputs": [],
   "source": [
    "#  Get the indices of cities that have humidity over 100%.\n"
   ]
  },
  {
   "cell_type": "code",
   "execution_count": null,
   "metadata": {},
   "outputs": [],
   "source": [
    "# Make a new DataFrame equal to the city data to drop all humidity outliers by index.\n",
    "# Passing \"inplace=False\" will make a copy of the city_data DataFrame, which we call \"clean_city_data\".\n"
   ]
  },
  {
   "cell_type": "markdown",
   "metadata": {},
   "source": [
    "## Plotting the Data\n",
    "* Use proper labeling of the plots using plot titles (including date of analysis) and axes labels.\n",
    "* Save the plotted figures as .pngs."
   ]
  },
  {
   "cell_type": "markdown",
   "metadata": {},
   "source": [
    "## Latitude vs. Temperature Plot"
   ]
  },
  {
   "cell_type": "code",
   "execution_count": 55,
   "metadata": {
    "scrolled": true
   },
   "outputs": [
    {
     "data": {
      "image/png": "[encoded data removed]",
      "text/plain": [
       "<Figure size 432x288 with 1 Axes>"
      ]
     },
     "metadata": {
      "needs_background": "light"
     },
     "output_type": "display_data"
    }
   ],
   "source": [
    "# Latitude Vs Temperature Plot\n",
    "# Create scatter plot for Latitude and Temperature\n",
    "plt.scatter(city_weather[\"Lat\"], city_weather[\"Temp\"], marker=\"o\")\n",
    "\n",
    "plt.title('Latitude Vs Temperature')\n",
    "plt.xlabel('Latitude')\n",
    "plt.ylabel('Temperature (F)')\n",
    "plt.grid()\n",
    "plt.savefig(\"Latitude_Vs_Temperature.png\")\n",
    "plt.show()"
   ]
  },
  {
   "cell_type": "markdown",
   "metadata": {},
   "source": [
    "## Latitude vs. Humidity Plot"
   ]
  },
  {
   "cell_type": "code",
   "execution_count": 56,
   "metadata": {},
   "outputs": [
    {
     "data": {
      "image/png": "[encoded data removed]",
      "text/plain": [
       "<Figure size 432x288 with 1 Axes>"
      ]
     },
     "metadata": {
      "needs_background": "light"
     },
     "output_type": "display_data"
    }
   ],
   "source": [
    "# Latitude Vs Humidity\n",
    "# Create scatter plot for Latitude and Humidity\n",
    "plt.scatter(city_weather[\"Lat\"], city_weather[\"Humidity\"], marker=\"o\")\n",
    "\n",
    "plt.title('Latitude Vs Humidity')\n",
    "plt.xlabel('Latitude')\n",
    "plt.ylabel('Humidity')\n",
    "plt.grid()\n",
    "plt.savefig(\"Latitude_Vs_Humidity.png\")\n",
    "plt.show()"
   ]
  },
  {
   "cell_type": "markdown",
   "metadata": {},
   "source": [
    "## Latitude vs. Cloudiness Plot"
   ]
  },
  {
   "cell_type": "code",
   "execution_count": 57,
   "metadata": {},
   "outputs": [
    {
     "data": {
      "image/png": "[encoded data removed]",
      "text/plain": [
       "<Figure size 432x288 with 1 Axes>"
      ]
     },
     "metadata": {
      "needs_background": "light"
     },
     "output_type": "display_data"
    }
   ],
   "source": [
    "# # Latitude Vs Cloudiness\n",
    "plt.scatter(city_weather[\"Lat\"], city_weather[\"Cloudiness\"], marker=\"o\")\n",
    "\n",
    "plt.title('Latitude Vs Cloudiness')\n",
    "plt.xlabel('Latitude')\n",
    "plt.ylabel('Cloudiness')\n",
    "plt.grid()\n",
    "plt.savefig(\"Latitude_Vs_Cloudiness.png\")\n",
    "plt.show()"
   ]
  },
  {
   "cell_type": "markdown",
   "metadata": {},
   "source": [
    "## Latitude vs. Wind Speed Plot"
   ]
  },
  {
   "cell_type": "code",
   "execution_count": 58,
   "metadata": {},
   "outputs": [
    {
     "data": {
      "image/png": "[encoded data removed]",
      "text/plain": [
       "<Figure size 432x288 with 1 Axes>"
      ]
     },
     "metadata": {
      "needs_background": "light"
     },
     "output_type": "display_data"
    }
   ],
   "source": [
    "# Latitude Vs Wind Speed\n",
    "\n",
    "plt.scatter(city_weather[\"Lat\"], city_weather[\"Wind Speed\"], marker=\"o\")\n",
    "\n",
    "plt.title('Latitude Vs Wind Speed')\n",
    "plt.xlabel('Latitude')\n",
    "plt.ylabel('Wind Speed')\n",
    "plt.grid()\n",
    "plt.savefig(\"Latitude_Vs_WindSpeed.png\")\n",
    "plt.show()"
   ]
  },
  {
   "cell_type": "markdown",
   "metadata": {},
   "source": [
    "## Linear Regression"
   ]
  },
  {
   "cell_type": "code",
   "execution_count": null,
   "metadata": {},
   "outputs": [],
   "source": [
    "# def LinearRegressionplot(x_values, y_values):\n",
    "\n",
    "# # Perform a linear regression on Temp vs. latitude\n",
    "#     (slope, intercept, rvalue, pvalue, stderr) = stats.linregress(x_values, y_values)\n",
    "#     regress_values = x_values * slope + intercept\n",
    "#     line_eq = \"y = \" + str(round(slope,2)) + \"x +\" + str(round(intercept,2))\n",
    "#     plt.scatter(x_values,y_values)\n",
    "#     plt.plot(x_values,regress_values,\"r-\" )\n",
    "#     plt.xlabel('Latitude')\n",
    "#     plt.ylabel(str(y_values.name))\n",
    "#     plt.annotate(line_eq,(0,0), fontsize=15,color=\"red\")\n",
    "#     print(f\"The r-squared is: {rvalue}\")\n",
    "#     plt.show()"
   ]
  },
  {
   "cell_type": "code",
   "execution_count": 66,
   "metadata": {},
   "outputs": [
    {
     "data": {
      "text/html": [
       "<div>\n",
       "<style scoped>\n",
       "    .dataframe tbody tr th:only-of-type {\n",
       "        vertical-align: middle;\n",
       "    }\n",
       "\n",
       "    .dataframe tbody tr th {\n",
       "        vertical-align: top;\n",
       "    }\n",
       "\n",
       "    .dataframe thead th {\n",
       "        text-align: right;\n",
       "    }\n",
       "</style>\n",
       "<table border=\"1\" class=\"dataframe\">\n",
       "  <thead>\n",
       "    <tr style=\"text-align: right;\">\n",
       "      <th></th>\n",
       "      <th>City</th>\n",
       "      <th>Cloudiness</th>\n",
       "      <th>Country</th>\n",
       "      <th>Date</th>\n",
       "      <th>Humidity</th>\n",
       "      <th>Temp</th>\n",
       "      <th>Lat</th>\n",
       "      <th>Lng</th>\n",
       "      <th>Wind Speed</th>\n",
       "    </tr>\n",
       "  </thead>\n",
       "  <tbody>\n",
       "    <tr>\n",
       "      <th>1</th>\n",
       "      <td>mataura</td>\n",
       "      <td>1</td>\n",
       "      <td>NZ</td>\n",
       "      <td>1607381085</td>\n",
       "      <td>60</td>\n",
       "      <td>66.99</td>\n",
       "      <td>-46.19</td>\n",
       "      <td>168.86</td>\n",
       "      <td>8.01</td>\n",
       "    </tr>\n",
       "    <tr>\n",
       "      <th>5</th>\n",
       "      <td>dunedin</td>\n",
       "      <td>10</td>\n",
       "      <td>NZ</td>\n",
       "      <td>1607381085</td>\n",
       "      <td>61</td>\n",
       "      <td>64.00</td>\n",
       "      <td>-45.87</td>\n",
       "      <td>170.50</td>\n",
       "      <td>11.01</td>\n",
       "    </tr>\n",
       "    <tr>\n",
       "      <th>6</th>\n",
       "      <td>port elizabeth</td>\n",
       "      <td>75</td>\n",
       "      <td>ZA</td>\n",
       "      <td>1607381085</td>\n",
       "      <td>94</td>\n",
       "      <td>68.00</td>\n",
       "      <td>-33.92</td>\n",
       "      <td>25.57</td>\n",
       "      <td>21.92</td>\n",
       "    </tr>\n",
       "    <tr>\n",
       "      <th>8</th>\n",
       "      <td>alyangula</td>\n",
       "      <td>75</td>\n",
       "      <td>AU</td>\n",
       "      <td>1607381086</td>\n",
       "      <td>84</td>\n",
       "      <td>86.00</td>\n",
       "      <td>-13.85</td>\n",
       "      <td>136.42</td>\n",
       "      <td>11.41</td>\n",
       "    </tr>\n",
       "    <tr>\n",
       "      <th>11</th>\n",
       "      <td>broken hill</td>\n",
       "      <td>0</td>\n",
       "      <td>AU</td>\n",
       "      <td>1607381086</td>\n",
       "      <td>58</td>\n",
       "      <td>55.40</td>\n",
       "      <td>-31.95</td>\n",
       "      <td>141.43</td>\n",
       "      <td>18.34</td>\n",
       "    </tr>\n",
       "  </tbody>\n",
       "</table>\n",
       "</div>"
      ],
      "text/plain": [
       "              City  Cloudiness Country        Date  Humidity   Temp    Lat  \\\n",
       "1          mataura           1      NZ  1607381085        60  66.99 -46.19   \n",
       "5          dunedin          10      NZ  1607381085        61  64.00 -45.87   \n",
       "6   port elizabeth          75      ZA  1607381085        94  68.00 -33.92   \n",
       "8        alyangula          75      AU  1607381086        84  86.00 -13.85   \n",
       "11     broken hill           0      AU  1607381086        58  55.40 -31.95   \n",
       "\n",
       "       Lng  Wind Speed  \n",
       "1   168.86        8.01  \n",
       "5   170.50       11.01  \n",
       "6    25.57       21.92  \n",
       "8   136.42       11.41  \n",
       "11  141.43       18.34  "
      ]
     },
     "execution_count": 66,
     "metadata": {},
     "output_type": "execute_result"
    }
   ],
   "source": [
    "# Create Northern and Southern Hemisphere DataFrames\n",
    "NHem = city_weather.loc[city_weather['Lat'] > 0] \n",
    "SHem = city_weather.loc[city_weather['Lat'] < 0]\n",
    "SHem.head()"
   ]
  },
  {
   "cell_type": "markdown",
   "metadata": {},
   "source": [
    "####  Northern Hemisphere - Temp vs. Latitude Linear Regression"
   ]
  },
  {
   "cell_type": "code",
   "execution_count": 110,
   "metadata": {},
   "outputs": [
    {
     "data": {
      "image/png": "[encoded data removed]",
      "text/plain": [
       "<Figure size 432x288 with 1 Axes>"
      ]
     },
     "metadata": {
      "needs_background": "light"
     },
     "output_type": "display_data"
    },
    {
     "data": {
      "text/plain": [
       "<Figure size 432x288 with 0 Axes>"
      ]
     },
     "metadata": {},
     "output_type": "display_data"
    }
   ],
   "source": [
    "x_values = NHem['Lat']\n",
    "y_values = NHem['Temp']\n",
    "(slope, intercept, rvalue, pvalue, stderr) = linregress(x_values, y_values)\n",
    "regress_values = x_values * slope + intercept\n",
    "line_eq = \"y = \" + str(round(slope,2)) + \"x + \" + str(round(intercept,2))\n",
    "plt.scatter(x_values,y_values)\n",
    "plt.plot(x_values,regress_values,\"red\")\n",
    "plt.annotate(line_eq,(40,80),fontsize=12,color=\"red\")\n",
    "\n",
    "plt.title(\"Northern Hemisphere - Temp vs. Latitude Linear Regression\")\n",
    "plt.xlabel(\"Latitude\")\n",
    "plt.ylabel(\"Temp\")\n",
    "\n",
    "plt.show()\n",
    "\n",
    "plt.savefig(\"NHem_TempvsLatLinRegress.png\")"
   ]
  },
  {
   "cell_type": "markdown",
   "metadata": {},
   "source": [
    "####  Southern Hemisphere - Max Temp vs. Latitude Linear Regression"
   ]
  },
  {
   "cell_type": "code",
   "execution_count": 109,
   "metadata": {},
   "outputs": [
    {
     "data": {
      "image/png": "[encoded data removed]",
      "text/plain": [
       "<Figure size 432x288 with 1 Axes>"
      ]
     },
     "metadata": {
      "needs_background": "light"
     },
     "output_type": "display_data"
    },
    {
     "data": {
      "text/plain": [
       "<Figure size 432x288 with 0 Axes>"
      ]
     },
     "metadata": {},
     "output_type": "display_data"
    }
   ],
   "source": [
    "x_values = SHem['Lat']\n",
    "y_values = SHem['Temp']\n",
    "(slope, intercept, rvalue, pvalue, stderr) = linregress(x_values, y_values)\n",
    "regress_values = x_values * slope + intercept\n",
    "line_eq = \"y = \" + str(round(slope,2)) + \"x + \" + str(round(intercept,2))\n",
    "plt.scatter(x_values,y_values)\n",
    "plt.plot(x_values,regress_values,\"red\")\n",
    "plt.annotate(line_eq,(-25,90),fontsize=12,color=\"red\")\n",
    "\n",
    "plt.title(\"Southern Hemisphere - Temp vs. Latitude Linear Regression\")\n",
    "plt.xlabel(\"Latitude\")\n",
    "plt.ylabel(\"Temp\")\n",
    "\n",
    "plt.show()\n",
    "\n",
    "plt.savefig(\"SHem_TempvsLatLinRegress.png\")"
   ]
  },
  {
   "cell_type": "markdown",
   "metadata": {},
   "source": [
    "####  Northern Hemisphere - Humidity (%) vs. Latitude Linear Regression"
   ]
  },
  {
   "cell_type": "code",
   "execution_count": 108,
   "metadata": {},
   "outputs": [
    {
     "data": {
      "image/png": "[encoded data removed]",
      "text/plain": [
       "<Figure size 432x288 with 1 Axes>"
      ]
     },
     "metadata": {
      "needs_background": "light"
     },
     "output_type": "display_data"
    },
    {
     "data": {
      "text/plain": [
       "<Figure size 432x288 with 0 Axes>"
      ]
     },
     "metadata": {},
     "output_type": "display_data"
    }
   ],
   "source": [
    "x_values = NHem['Lat']\n",
    "y_values = NHem['Humidity']\n",
    "(slope, intercept, rvalue, pvalue, stderr) = linregress(x_values, y_values)\n",
    "regress_values = x_values * slope + intercept\n",
    "line_eq = \"y = \" + str(round(slope,2)) + \"x + \" + str(round(intercept,2))\n",
    "plt.scatter(x_values,y_values)\n",
    "plt.plot(x_values,regress_values,\"red\")\n",
    "plt.annotate(line_eq,(50,15),fontsize=12,color=\"red\")\n",
    "\n",
    "plt.title(\"Northen Hemisphere - Humidity (%) vs. Latitude Linear Regression\")\n",
    "plt.xlabel(\"Latitude\")\n",
    "plt.ylabel(\"Humidity\")\n",
    "\n",
    "plt.show()\n",
    "\n",
    "plt.savefig(\"NHem_HumidityVsLatLinRegress.png\")"
   ]
  },
  {
   "cell_type": "markdown",
   "metadata": {},
   "source": [
    "####  Southern Hemisphere - Humidity (%) vs. Latitude Linear Regression"
   ]
  },
  {
   "cell_type": "code",
   "execution_count": 107,
   "metadata": {},
   "outputs": [
    {
     "data": {
      "image/png": "[encoded data removed]",
      "text/plain": [
       "<Figure size 432x288 with 1 Axes>"
      ]
     },
     "metadata": {
      "needs_background": "light"
     },
     "output_type": "display_data"
    },
    {
     "data": {
      "text/plain": [
       "<Figure size 432x288 with 0 Axes>"
      ]
     },
     "metadata": {},
     "output_type": "display_data"
    }
   ],
   "source": [
    "x_values = SHem['Lat']\n",
    "y_values = SHem['Humidity']\n",
    "(slope, intercept, rvalue, pvalue, stderr) = linregress(x_values, y_values)\n",
    "regress_values = x_values * slope + intercept\n",
    "line_eq = \"y = \" + str(round(slope,2)) + \"x + \" + str(round(intercept,2))\n",
    "plt.scatter(x_values,y_values)\n",
    "plt.plot(x_values,regress_values,\"red\")\n",
    "plt.annotate(line_eq,(-20,25),fontsize=12,color=\"red\")\n",
    "\n",
    "plt.title(\"Southern Hemisphere - Humidity (%) vs. Latitude Linear Regression\")\n",
    "plt.xlabel(\"Latitude\")\n",
    "plt.ylabel(\"Humidity\")\n",
    "\n",
    "plt.show()\n",
    "\n",
    "plt.savefig(\"SHem_HumidityVsLatLinRegress.png\")"
   ]
  },
  {
   "cell_type": "markdown",
   "metadata": {},
   "source": [
    "####  Northern Hemisphere - Cloudiness (%) vs. Latitude Linear Regression"
   ]
  },
  {
   "cell_type": "code",
   "execution_count": 112,
   "metadata": {},
   "outputs": [
    {
     "data": {
      "image/png": "[encoded data removed]",
      "text/plain": [
       "<Figure size 432x288 with 1 Axes>"
      ]
     },
     "metadata": {
      "needs_background": "light"
     },
     "output_type": "display_data"
    },
    {
     "data": {
      "text/plain": [
       "<Figure size 432x288 with 0 Axes>"
      ]
     },
     "metadata": {},
     "output_type": "display_data"
    }
   ],
   "source": [
    "x_values = NHem['Lat']\n",
    "y_values = NHem['Humidity']\n",
    "(slope, intercept, rvalue, pvalue, stderr) = linregress(x_values, y_values)\n",
    "regress_values = x_values * slope + intercept\n",
    "line_eq = \"y = \" + str(round(slope,2)) + \"x + \" + str(round(intercept,2))\n",
    "plt.scatter(x_values,y_values)\n",
    "plt.plot(x_values,regress_values,\"red\")\n",
    "plt.annotate(line_eq,(50,20),fontsize=12,color=\"red\")\n",
    "\n",
    "plt.title(\"Northern Hemisphere - Cloudiness (%) vs. Latitude Linear Regression\")\n",
    "plt.xlabel(\"Latitude\")\n",
    "plt.ylabel(\"Cloudiness\")\n",
    "\n",
    "plt.show()\n",
    "\n",
    "plt.savefig(\"NHem_CloudinessVsLatLinRegress.png\")"
   ]
  },
  {
   "cell_type": "markdown",
   "metadata": {},
   "source": [
    "####  Southern Hemisphere - Cloudiness (%) vs. Latitude Linear Regression"
   ]
  },
  {
   "cell_type": "code",
   "execution_count": 118,
   "metadata": {},
   "outputs": [
    {
     "data": {
      "image/png": "[encoded data removed]",
      "text/plain": [
       "<Figure size 432x288 with 1 Axes>"
      ]
     },
     "metadata": {
      "needs_background": "light"
     },
     "output_type": "display_data"
    },
    {
     "data": {
      "text/plain": [
       "<Figure size 432x288 with 0 Axes>"
      ]
     },
     "metadata": {},
     "output_type": "display_data"
    }
   ],
   "source": [
    "x_values = SHem['Lat']\n",
    "y_values = SHem['Cloudiness']\n",
    "(slope, intercept, rvalue, pvalue, stderr) = linregress(x_values, y_values)\n",
    "regress_values = x_values * slope + intercept\n",
    "line_eq = \"y = \" + str(round(slope,2)) + \"x + \" + str(round(intercept,2))\n",
    "plt.scatter(x_values,y_values)\n",
    "plt.plot(x_values,regress_values,\"red\")\n",
    "plt.annotate(line_eq,(-55,82),fontsize=12,color=\"red\")\n",
    "\n",
    "plt.title(\"Southern Hemisphere - Cloudiness (%) vs. Latitude Linear Regression\")\n",
    "plt.xlabel(\"Latitude\")\n",
    "plt.ylabel(\"Cloudiness\")\n",
    "\n",
    "plt.show()\n",
    "\n",
    "plt.savefig(\"SHem_CloudinessVsLatLinRegress.png\")"
   ]
  },
  {
   "cell_type": "markdown",
   "metadata": {},
   "source": [
    "####  Northern Hemisphere - Wind Speed (mph) vs. Latitude Linear Regression"
   ]
  },
  {
   "cell_type": "code",
   "execution_count": 121,
   "metadata": {},
   "outputs": [
    {
     "data": {
      "image/png": "[encoded data removed]",
      "text/plain": [
       "<Figure size 432x288 with 1 Axes>"
      ]
     },
     "metadata": {
      "needs_background": "light"
     },
     "output_type": "display_data"
    },
    {
     "data": {
      "text/plain": [
       "<Figure size 432x288 with 0 Axes>"
      ]
     },
     "metadata": {},
     "output_type": "display_data"
    }
   ],
   "source": [
    "x_values = NHem['Lat']\n",
    "y_values = NHem['Wind Speed']\n",
    "(slope, intercept, rvalue, pvalue, stderr) = linregress(x_values, y_values)\n",
    "regress_values = x_values * slope + intercept\n",
    "line_eq = \"y = \" + str(round(slope,2)) + \"x + \" + str(round(intercept,2))\n",
    "plt.scatter(x_values,y_values)\n",
    "plt.plot(x_values,regress_values,\"red\")\n",
    "plt.annotate(line_eq,(0,30),fontsize=12,color=\"red\")\n",
    "\n",
    "plt.title(\"Northern Hemisphere - Wind Speed (mph) vs. Latitude Linear Regression\")\n",
    "plt.xlabel(\"Latitude\")\n",
    "plt.ylabel(\"Wind Speed\")\n",
    "\n",
    "plt.show()\n",
    "\n",
    "plt.savefig(\"NHem_WindSpeedVsLatLinRegress.png\")"
   ]
  },
  {
   "cell_type": "markdown",
   "metadata": {},
   "source": [
    "####  Southern Hemisphere - Wind Speed (mph) vs. Latitude Linear Regression"
   ]
  },
  {
   "cell_type": "code",
   "execution_count": 123,
   "metadata": {},
   "outputs": [
    {
     "data": {
      "image/png": "[encoded data removed]",
      "text/plain": [
       "<Figure size 432x288 with 1 Axes>"
      ]
     },
     "metadata": {
      "needs_background": "light"
     },
     "output_type": "display_data"
    },
    {
     "data": {
      "text/plain": [
       "<Figure size 432x288 with 0 Axes>"
      ]
     },
     "metadata": {},
     "output_type": "display_data"
    }
   ],
   "source": [
    "x_values = SHem['Lat']\n",
    "y_values = SHem['Wind Speed']\n",
    "(slope, intercept, rvalue, pvalue, stderr) = linregress(x_values, y_values)\n",
    "regress_values = x_values * slope + intercept\n",
    "line_eq = \"y = \" + str(round(slope,2)) + \"x + \" + str(round(intercept,2))\n",
    "plt.scatter(x_values,y_values)\n",
    "plt.plot(x_values,regress_values,\"red\")\n",
    "plt.annotate(line_eq,(-20,25),fontsize=12,color=\"red\")\n",
    "\n",
    "plt.title(\"Southern Hemisphere - Wind Speed (mph) vs. Latitude Linear Regression\")\n",
    "plt.xlabel(\"Latitude\")\n",
    "plt.ylabel(\"Wind Speed\")\n",
    "\n",
    "plt.show()\n",
    "\n",
    "plt.savefig(\"SHem_WindSpeedVsLatLinRegress.png\")"
   ]
  },
  {
   "cell_type": "markdown",
   "metadata": {},
   "source": [
    "Observation 1: The higher the latitude, lower the Temp in Northern Hemisphere.\n",
    "\n",
    "Observation 2: The Wind Speed does not show relationship with latitude in the Northern Hemisphere.\n",
    "\n",
    "Observation 3: In the Northern and Southern Hemisphere, as the Wind Speed increases, the distance also increases from the equator. \n"
   ]
  },
  {
   "cell_type": "code",
   "execution_count": null,
   "metadata": {},
   "outputs": [],
   "source": []
  }
 ],
 "metadata": {
  "anaconda-cloud": {},
  "kernel_info": {
   "name": "python3"
  },
  "kernelspec": {
   "display_name": "Python 3",
   "language": "python",
   "name": "python3"
  },
  "language_info": {
   "codemirror_mode": {
    "name": "ipython",
    "version": 3
   },
   "file_extension": ".py",
   "mimetype": "text/x-python",
   "name": "python",
   "nbconvert_exporter": "python",
   "pygments_lexer": "ipython3",
   "version": "3.8.3"
  },
  "latex_envs": {
   "LaTeX_envs_menu_present": true,
   "autoclose": false,
   "autocomplete": true,
   "bibliofile": "biblio.bib",
   "cite_by": "apalike",
   "current_citInitial": 1,
   "eqLabelWithNumbers": true,
   "eqNumInitial": 1,
   "hotkeys": {
    "equation": "Ctrl-E",
    "itemize": "Ctrl-I"
   },
   "labels_anchors": false,
   "latex_user_defs": false,
   "report_style_numbering": false,
   "user_envs_cfg": false
  },
  "nteract": {
   "version": "0.12.3"
  }
 },
 "nbformat": 4,
 "nbformat_minor": 2
}
